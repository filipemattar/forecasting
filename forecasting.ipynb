{
 "cells": [
  {
   "cell_type": "markdown",
   "id": "7f12a37c",
   "metadata": {},
   "source": [
    "The work above was concluded as part of my final project of the Master in Data Science at Nuclio Digital School. This dataset is a case of study from the M5 competition in Kaggle about timeseries forecasting of item sales from Walmart. Although the competition aim to get the best RMSSE score, we are goingo to look at this notebook the following way:\n",
    "\n",
    "- Exploratory Data Analysis (EDA)\n",
    "- Model train using DARTS\n",
    "- Build an API of stock replenishment using the trained model"
   ]
  },
  {
   "cell_type": "markdown",
   "id": "642d6b13",
   "metadata": {},
   "source": [
    "# Importing Libraries"
   ]
  },
  {
   "cell_type": "code",
   "execution_count": 4,
   "id": "bc371c76",
   "metadata": {},
   "outputs": [],
   "source": [
    "import pandas as pd\n",
    "import numpy as np\n",
    "import seaborn as sns\n",
    "import matplotlib.pyplot as plt\n",
    "import pickle\n",
    "import joblib\n",
    "\n",
    "from darts import TimeSeries\n",
    "from darts.models import NBEATSModel\n",
    "from darts.dataprocessing.transformers import Scaler\n",
    "from darts.metrics import rmse, mae"
   ]
  },
  {
   "cell_type": "code",
   "execution_count": null,
   "id": "ec815d57",
   "metadata": {},
   "outputs": [],
   "source": [
    "#Events file\n",
    "file_id = \"https://drive.google.com/file/d/1gLVp1-FeQ1PbpfvnyVNS99FVwwr5ntj5/view?usp=sharing\"\n",
    "download_url = f\"https://drive.google.com/uc?id={file_id}\"\n",
    "\n",
    "events = pd.read_csv(download_url)"
   ]
  },
  {
   "cell_type": "code",
   "execution_count": null,
   "id": "6c3d6627",
   "metadata": {},
   "outputs": [],
   "source": [
    "#Events file\n",
    "file_id = \"https://drive.google.com/file/d/1PKSsblU-ELR14I1BVSINcC_4vTbYDuQe/view?usp=sharing\"\n",
    "download_url = f\"https://drive.google.com/uc?id={file_id}\"\n",
    "\n",
    "item_price = pd.read_csv(download_url)"
   ]
  },
  {
   "cell_type": "code",
   "execution_count": null,
   "id": "d964bb76",
   "metadata": {},
   "outputs": [],
   "source": [
    "#Events file\n",
    "file_id = \"https://drive.google.com/file/d/1e6gMbP2rkxlQZaa24H5-OQlMPz6UG6o5/view?usp=sharing\"\n",
    "download_url = f\"https://drive.google.com/uc?id={file_id}\"\n",
    "\n",
    "item_sales = pd.read_csv(download_url)"
   ]
  }
 ],
 "metadata": {
  "kernelspec": {
   "display_name": "Python 3 (ipykernel)",
   "language": "python",
   "name": "python3"
  },
  "language_info": {
   "codemirror_mode": {
    "name": "ipython",
    "version": 3
   },
   "file_extension": ".py",
   "mimetype": "text/x-python",
   "name": "python",
   "nbconvert_exporter": "python",
   "pygments_lexer": "ipython3",
   "version": "3.12.4"
  }
 },
 "nbformat": 4,
 "nbformat_minor": 5
}
