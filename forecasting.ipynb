{
 "cells": [
  {
   "cell_type": "markdown",
   "id": "0348ee66-4b3d-495c-b8e6-2fec58716958",
   "metadata": {},
   "source": [
    "The work above was concluded as part of my final project of the Master in Data Science at Nuclio Digital School. This dataset is a case of study from the M5 competition in Kaggle about timeseries forecasting of item sales from Walmart. Although the competition aim to get the best RMSSE score, we are goingo to look at this notebook the following way:\n",
    "\n",
    "- Exploratory Data Analysis (EDA)\n",
    "- Model train using DARTS\n",
    "- Build an API of stock replenishment using the trained model"
   ]
  },
  {
   "cell_type": "markdown",
   "id": "e50ec989-5596-41a7-9821-a60205968ddc",
   "metadata": {},
   "source": [
    "# Importing Libraries"
   ]
  },
  {
   "cell_type": "code",
   "execution_count": 1,
   "id": "33278cf5-f73b-440b-9bce-f114f9fcc2d8",
   "metadata": {},
   "outputs": [],
   "source": [
    "import pandas as pd\n",
    "import numpy as np\n",
    "import seaborn as sns\n",
    "import matplotlib.pyplot as plt\n",
    "import pickle\n",
    "import joblib\n",
    "\n",
    "from darts import TimeSeries\n",
    "from darts.models import NBEATSModel\n",
    "from darts.dataprocessing.transformers import Scaler\n",
    "from darts.metrics import rmse, mae"
   ]
  },
  {
   "cell_type": "code",
   "execution_count": null,
   "id": "1dafcb45-78af-41a5-827f-acd2560c9d85",
   "metadata": {},
   "outputs": [],
   "source": []
  }
 ],
 "metadata": {
  "kernelspec": {
   "display_name": "Python 3 (ipykernel)",
   "language": "python",
   "name": "python3"
  },
  "language_info": {
   "codemirror_mode": {
    "name": "ipython",
    "version": 3
   },
   "file_extension": ".py",
   "mimetype": "text/x-python",
   "name": "python",
   "nbconvert_exporter": "python",
   "pygments_lexer": "ipython3",
   "version": "3.12.4"
  }
 },
 "nbformat": 4,
 "nbformat_minor": 5
}
