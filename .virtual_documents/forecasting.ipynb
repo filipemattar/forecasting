





import pandas as pd
import numpy as np
import seaborn as sns
import matplotlib.pyplot as plt
import pickle
import joblib

from darts import TimeSeries
from darts.models import NBEATSModel
from darts.dataprocessing.transformers import Scaler
from darts.metrics import rmse, mae


#Events file
file_id = "https://drive.google.com/file/d/1gLVp1-FeQ1PbpfvnyVNS99FVwwr5ntj5/view?usp=sharing"
download_url = f"https://drive.google.com/uc?id={file_id}"

events = pd.read_csv(download_url)


#Events file
file_id = "https://drive.google.com/file/d/1PKSsblU-ELR14I1BVSINcC_4vTbYDuQe/view?usp=sharing"
download_url = f"https://drive.google.com/uc?id={file_id}"

item_price = pd.read_csv(download_url)


#Events file
file_id = "https://drive.google.com/file/d/1e6gMbP2rkxlQZaa24H5-OQlMPz6UG6o5/view?usp=sharing"
download_url = f"https://drive.google.com/uc?id={file_id}"

item_sales = pd.read_csv(download_url)
