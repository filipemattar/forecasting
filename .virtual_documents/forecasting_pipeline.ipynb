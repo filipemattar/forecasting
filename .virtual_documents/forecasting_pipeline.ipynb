from darts.models import NBEATSModel
from darts.dataprocessing.transformers import Scaler
from darts.metrics import mae, rmse
import joblib

#Data pipeline for model training of NBEATS forecasting. Input must be a timeseries float32.

class ForecastingPipeline:
    def __init__(self, input_chunk_length, output_chunk_length, model_params=None):
        """
        Initialize forecastign pipeline.
        
        :param input_chunk_length: size of input chunk lenght.
        :param output_chunk_length: size of output chunk lenght.
        :param train_test_split (float): train and test size proportion (between 0 and 1).
        :param model_params: N-BEATS model parameters.
        """
        self.input_chunk_length = input_chunk_length
        self.output_chunk_length = output_chunk_length
        self.train_test_split = train_test_split
        self.model_params = model_params if model_params else {}
        self.epochs = epochs
        self.model = None
        self.scaler = None

    def preparing_data(self, series, covariates=None):
        """
        Data scaling to easy model train.

        :param series: main time series (target).
        :param covariates: Covariates (optional).
        :return: scalaed series.
        """
        self.scaler = Scaler()
        scaled_series = self.scaler.fit_transform(series)
        scaled_covariates = None
        if covariates is not None:
            scaled_covariates = self.scaler.fit_transofrm(covariates)
        return scaled_series, scaled_covariates

    def setting_modelo(self):
        """
        Setting up N-Beats model with given parameters.
        """
        self.model = NBEATSModel(
            input_chunk_length=self.input_chunk_length,
            output_chunk_length=self.output_chunk_length,
            **self.model_params
        )

    def data_split(self, series):
        """
        Dividing the series into train and test samples.

        Args:
            series (TimeSeries): Entire series.

        Returns:
            tuple: (train_series, test_series)
        """
        split_idx = int(len(series) * self.train_test_split)
        train_series = series[:split_idx]
        test_series = series[split_idx:]
        return train_series, test_series

    def training_model(self, train_series, covariates=None, val_series=None, val_covariates=None):
        """
        Training N-BEATS model.

        :param train_series: Time series for training.
        :param covariates: Covariates for training (optional).
        :param val_series: Time series for validation (optional).
        :param val_covariates: Covariates for validation (optional).
        :param epochs: Number of epochs for training.
        """
        if not self.model:
            self.setting_model()
        self.model.fit(
            series=train_series,
            past_covariates=covariates,
            val_series=val_series,
            val_past_covariates=val_covariates,
            epochs=self.epochs
        )

    def model_evaluation(self, test_series, covariates=None):
        """
        Model evaluation with MAE and RMSE.
        
        Args:
            test_series: Real test series.
            test_covariates: Covariates to predict, if so.
        
        Returns:
            Dictionary with MAE and RMSE.
        """
        if not self.model:
            raise ValueError("The model needs to be trained before evaluation metrics.")
        
        #Making predictions
        preds = self.model.predict(
            n=len(test_series),
            past_covariates=test_covariates
        )
        
        #Calculating metrics
        mae_value = mae(test_series, preds)
        rmse_value = rmse(test_series, preds)
        
        return {
            "MAE": mae_value,
            "RMSE": rmse_value
        }
    
    def save_model(self, path):
        """
        Save the model and scaler.
        
        :param path: path to save the model and the scaler.
        """
        self.model.save_model(f"{path}/nbeats_model.pth.tar")
        joblib.dump(self.scaler, f"{path}/scaler.pkl")  
