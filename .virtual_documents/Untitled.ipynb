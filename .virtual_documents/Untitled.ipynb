from darts.models import NBEATSModel
from darts.dataprocessing.transformers import Scaler
from darts.metrics import mae, rmse
import joblib

#Data pipeline for model training of NBEATS forecasting. Input must be a timeseries float32.

class ForecastingPipeline:
    def __init__(self, input_chunk_length, output_chunk_length, model_params=None):
        """
        Initialize forecastign pipeline.

        :param input_chunk_length: size of input chunk lenght.
        :param output_chunk_length: size of output chunk lenght.
        :param model_params: N-BEATS model parameters.
        """
        self.input_chunk_length = input_chunk_length
        self.output_chunk_length = output_chunk_length
        self.model_params = model_params if model_params else {}
        self.epochs = epochs
        self.model = None
        self.scaler = None

    def preparing_data(self, series, covariates=None):
        """
        Data scaling to easy model train.

        :param series: main time series (target).
        :param covariates: Covariates (optional).
        :return: scalaed series.
        """
        self.scaler = Scaler()
        scaled_series = self.scaler.fit_transform(series)
        scaled_covariates = None
        if covariates is not None:
            scaled_covariates = self.scaler.fit_transofrm(covariates)
        returna scaled_series, scaled_covariates

    def setting_modelo(self):
        """
        Setting up N-Beats model with given parameters.
        """
        self.model = NBEATSModel(
            input_chunk_length=self.input_chunk_length,
            output_chunk_length=self.output_chunk_length,
            **self.model_params
        )

    def training_model(self, train_series, covariates=None, val_series=None, val_covariates=None):
        """
        Training N-BEATS model.

        :param train_series: Time series for training.
        :param covariates: Covariates for training (optional).
        :param val_series: Time series for validation (optional).
        :param val_covariates: Covariates for validation (optional).
        :param epochs: Number of epochs for training.
        """
        if not self.model:
            self.setting_model()
        self.model.fit(
            series=train_series,
            past_covariates=covariates,
            val_series=val_series,
            val_past_covariates=val_covariates,
            epochs=self.epochs
        )

    def model_evaluation(self, test_series, covariates=None):
        """
        Model performance on test set.

        :param test_series: Test timeseries.
        :param covariates: Test convariates (optional).
        :


        
